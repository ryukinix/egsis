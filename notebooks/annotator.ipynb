{
 "cells": [
  {
   "cell_type": "markdown",
   "id": "f5e1e374-d1c4-436e-bc35-4c0ce5011414",
   "metadata": {},
   "source": [
    "# Display image"
   ]
  },
  {
   "cell_type": "code",
   "execution_count": 1,
   "id": "aa63991f-2704-4fc6-b923-a47251dc7296",
   "metadata": {},
   "outputs": [
    {
     "data": {
      "application/vnd.jupyter.widget-view+json": {
       "model_id": "b866658c930a487bb3c286b7f3fa6304",
       "version_major": 2,
       "version_minor": 0
      },
      "text/plain": [
       "Canvas(height=705, width=705)"
      ]
     },
     "execution_count": 1,
     "metadata": {},
     "output_type": "execute_result"
    }
   ],
   "source": [
    "# reading re-sized image through canvas\n",
    "from ipycanvas import Canvas\n",
    "\n",
    "from skimage.data import retina\n",
    "from skimage.util import img_as_ubyte\n",
    "from skimage.transform import resize\n",
    "\n",
    "img = img_as_ubyte(retina())\n",
    "width, height, _ = img.shape\n",
    "resize_f = 0.5\n",
    "width_resized = width * resize_f\n",
    "height_resized = height * resize_f\n",
    "canvas = Canvas(width=width_resized, height=height_resized)\n",
    "img_resized = img_as_ubyte(resize(img, (width_resized, height_resized)))\n",
    "canvas.put_image_data(img_resized, 0, 0)\n",
    "canvas"
   ]
  },
  {
   "cell_type": "markdown",
   "id": "296fd1ee-8332-4c51-a2d2-986ec2163110",
   "metadata": {},
   "source": [
    "# Handle mouse input: draw circles at each mouse click"
   ]
  },
  {
   "cell_type": "code",
   "execution_count": 2,
   "id": "75cd8f08-5d5d-42eb-929c-01ab612ad5f3",
   "metadata": {},
   "outputs": [
    {
     "data": {
      "application/vnd.jupyter.widget-view+json": {
       "model_id": "273a193f1dce49d4b1564986550e90e1",
       "version_major": 2,
       "version_minor": 0
      },
      "text/plain": [
       "Canvas(height=300, width=300)"
      ]
     },
     "execution_count": 2,
     "metadata": {},
     "output_type": "execute_result"
    }
   ],
   "source": [
    "import numpy as np\n",
    "from ipycanvas import Canvas, hold_canvas\n",
    "from ipywidgets import Output\n",
    "\n",
    "canvas = Canvas(width=300, height=300)\n",
    "\n",
    "out = Output()\n",
    "\n",
    "def draw_circle(x, y):\n",
    "    alpha = [0.5]\n",
    "    r = [5]\n",
    "    color_fill = [[68, 156,  61]]\n",
    "    color_outline = [[183, 228, 164]]\n",
    "    canvas.fill_styled_circles(x, y, r, color=color_fill, alpha=alpha)\n",
    "    canvas.line_width = 2\n",
    "    canvas.stroke_styled_circles(x, y, r, color=color_outline)\n",
    "\n",
    "@out.capture()\n",
    "def handle_touch_move(x, y):\n",
    "    draw_circle(x, y)\n",
    "\n",
    "canvas.on_mouse_up(handle_touch_move)\n",
    "canvas"
   ]
  },
  {
   "cell_type": "markdown",
   "id": "59832df3-d1e7-430d-8b0d-4134d77b2ce5",
   "metadata": {},
   "source": [
    "# Point Annotator (WIP implementation)"
   ]
  },
  {
   "cell_type": "code",
   "execution_count": 5,
   "id": "6260c199-ada4-4c0d-ab4f-bbb6544de984",
   "metadata": {},
   "outputs": [
    {
     "data": {
      "application/vnd.jupyter.widget-view+json": {
       "model_id": "3550f2259e27439080c1b91b5558f28d",
       "version_major": 2,
       "version_minor": 0
      },
      "text/plain": [
       "Canvas(height=423, width=423)"
      ]
     },
     "execution_count": 5,
     "metadata": {},
     "output_type": "execute_result"
    }
   ],
   "source": [
    "from egsis.annotators import PointAnnotator\n",
    "from skimage.data import retina\n",
    "\n",
    "annotator = PointAnnotator(image=retina(), resize_f = 0.3)\n",
    "\n",
    "annotator.display()"
   ]
  },
  {
   "cell_type": "code",
   "execution_count": 6,
   "id": "17f0f21a-d3eb-4a16-81c6-f42f37fb63c2",
   "metadata": {},
   "outputs": [
    {
     "data": {
      "text/plain": [
       "[LabeledPoint(label='1', color=array([[183, 228, 164]]), point=(673, 398)),\n",
       " LabeledPoint(label='1', color=array([[183, 228, 164]]), point=(1110, 745)),\n",
       " LabeledPoint(label='1', color=array([[183, 228, 164]]), point=(493, 1001)),\n",
       " LabeledPoint(label='1', color=array([[183, 228, 164]]), point=(90, 1338)),\n",
       " LabeledPoint(label='1', color=array([[183, 228, 164]]), point=(1250, 1295))]"
      ]
     },
     "execution_count": 6,
     "metadata": {},
     "output_type": "execute_result"
    }
   ],
   "source": [
    "annotator.data"
   ]
  },
  {
   "cell_type": "code",
   "execution_count": 4,
   "id": "59647fd2-e124-488a-a80d-d3ca0efe0f04",
   "metadata": {},
   "outputs": [
    {
     "data": {
      "text/plain": [
       "(1411, 1411, 3)"
      ]
     },
     "execution_count": 4,
     "metadata": {},
     "output_type": "execute_result"
    }
   ],
   "source": [
    "retina().shape"
   ]
  },
  {
   "cell_type": "code",
   "execution_count": null,
   "id": "09c93d90-3342-4c64-9d26-fbf5d94e5ee3",
   "metadata": {},
   "outputs": [],
   "source": []
  }
 ],
 "metadata": {
  "kernelspec": {
   "display_name": "Python 3 (ipykernel)",
   "language": "python",
   "name": "python3"
  },
  "language_info": {
   "codemirror_mode": {
    "name": "ipython",
    "version": 3
   },
   "file_extension": ".py",
   "mimetype": "text/x-python",
   "name": "python",
   "nbconvert_exporter": "python",
   "pygments_lexer": "ipython3",
   "version": "3.10.12"
  }
 },
 "nbformat": 4,
 "nbformat_minor": 5
}
