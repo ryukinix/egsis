{
 "cells": [
  {
   "cell_type": "markdown",
   "id": "f5e1e374-d1c4-436e-bc35-4c0ce5011414",
   "metadata": {},
   "source": [
    "# Display image"
   ]
  },
  {
   "cell_type": "code",
   "execution_count": 1,
   "id": "aa63991f-2704-4fc6-b923-a47251dc7296",
   "metadata": {},
   "outputs": [
    {
     "data": {
      "application/vnd.jupyter.widget-view+json": {
       "model_id": "4f407e8cb1ad4d3684998fdb794c5987",
       "version_major": 2,
       "version_minor": 0
      },
      "text/plain": [
       "Canvas(height=705, width=705)"
      ]
     },
     "execution_count": 1,
     "metadata": {},
     "output_type": "execute_result"
    }
   ],
   "source": [
    "# reading re-sized image through canvas\n",
    "from ipycanvas import Canvas\n",
    "\n",
    "from skimage.data import retina\n",
    "from skimage.util import img_as_ubyte\n",
    "from skimage.transform import resize\n",
    "\n",
    "img = img_as_ubyte(retina())\n",
    "width, height, _ = img.shape\n",
    "resize_f = 0.5\n",
    "width_resized = width * resize_f\n",
    "height_resized = height * resize_f\n",
    "canvas = Canvas(width=width_resized, height=height_resized)\n",
    "img_resized = img_as_ubyte(resize(img, (width_resized, height_resized)))\n",
    "canvas.put_image_data(img_resized, 0, 0)\n",
    "canvas"
   ]
  },
  {
   "cell_type": "markdown",
   "id": "296fd1ee-8332-4c51-a2d2-986ec2163110",
   "metadata": {},
   "source": [
    "# Handle mouse input: draw circles at each mouse click"
   ]
  },
  {
   "cell_type": "code",
   "execution_count": 2,
   "id": "75cd8f08-5d5d-42eb-929c-01ab612ad5f3",
   "metadata": {},
   "outputs": [
    {
     "data": {
      "application/vnd.jupyter.widget-view+json": {
       "model_id": "6634c3996f4747da93b01539304bf62c",
       "version_major": 2,
       "version_minor": 0
      },
      "text/plain": [
       "Canvas(height=300, width=300)"
      ]
     },
     "execution_count": 2,
     "metadata": {},
     "output_type": "execute_result"
    }
   ],
   "source": [
    "import numpy as np\n",
    "from ipycanvas import Canvas, hold_canvas\n",
    "from ipywidgets import Output\n",
    "\n",
    "canvas = Canvas(width=300, height=300)\n",
    "\n",
    "out = Output()\n",
    "\n",
    "def draw_circle(x, y):\n",
    "    alpha = [0.5]\n",
    "    r = [5]\n",
    "    color_fill = [[68, 156,  61]]\n",
    "    color_outline = [[183, 228, 164]]\n",
    "    canvas.fill_styled_circles(x, y, r, color=color_fill, alpha=alpha)\n",
    "    canvas.line_width = 2\n",
    "    canvas.stroke_styled_circles(x, y, r, color=color_outline)\n",
    "\n",
    "@out.capture()\n",
    "def handle_touch_move(x, y):\n",
    "    draw_circle(x, y)\n",
    "\n",
    "canvas.on_mouse_up(handle_touch_move)\n",
    "canvas"
   ]
  },
  {
   "cell_type": "markdown",
   "id": "59832df3-d1e7-430d-8b0d-4134d77b2ce5",
   "metadata": {},
   "source": [
    "# Point Annotator"
   ]
  },
  {
   "cell_type": "code",
   "execution_count": 3,
   "id": "6260c199-ada4-4c0d-ab4f-bbb6544de984",
   "metadata": {},
   "outputs": [
    {
     "data": {
      "application/vnd.jupyter.widget-view+json": {
       "model_id": "1895ca1aea464682a3e4d3bd8932efb6",
       "version_major": 2,
       "version_minor": 0
      },
      "text/plain": [
       "HBox(children=(Canvas(height=423, width=423), VBox(children=(FloatSlider(value=5.0, continuous_update=False, d…"
      ]
     },
     "execution_count": 3,
     "metadata": {},
     "output_type": "execute_result"
    }
   ],
   "source": [
    "from egsis.annotators import PointAnnotator\n",
    "from skimage.data import retina\n",
    "\n",
    "annotator = PointAnnotator(image=retina(), classes=[\"fg\", \"retina\"], resize_f = 0.3)\n",
    "\n",
    "annotator.display()"
   ]
  },
  {
   "cell_type": "code",
   "execution_count": 4,
   "id": "09a6c596-9c3e-4ca5-a8b6-8fd5c5a0ea04",
   "metadata": {},
   "outputs": [
    {
     "data": {
      "text/plain": [
       "[]"
      ]
     },
     "execution_count": 4,
     "metadata": {},
     "output_type": "execute_result"
    }
   ],
   "source": [
    "annotator.data"
   ]
  },
  {
   "cell_type": "code",
   "execution_count": 5,
   "id": "db0e4731-8c01-4db9-8d01-2405fbe61124",
   "metadata": {},
   "outputs": [
    {
     "data": {
      "text/plain": [
       "{1: 'fg', 2: 'retina'}"
      ]
     },
     "execution_count": 5,
     "metadata": {},
     "output_type": "execute_result"
    }
   ],
   "source": [
    "annotator.labels_by_name"
   ]
  },
  {
   "cell_type": "code",
   "execution_count": 6,
   "id": "a604192f-eaa2-4a72-be06-237bd431706b",
   "metadata": {},
   "outputs": [
    {
     "data": {
      "text/plain": [
       "{}"
      ]
     },
     "execution_count": 6,
     "metadata": {},
     "output_type": "execute_result"
    }
   ],
   "source": [
    "annotator.labels_by_color"
   ]
  },
  {
   "cell_type": "code",
   "execution_count": 7,
   "id": "b200c348-b9e7-4963-92d9-920936c80ef0",
   "metadata": {},
   "outputs": [
    {
     "data": {
      "text/plain": [
       "array([[[0., 0., 0.],\n",
       "        [0., 0., 0.],\n",
       "        [0., 0., 0.],\n",
       "        ...,\n",
       "        [0., 0., 0.],\n",
       "        [0., 0., 0.],\n",
       "        [0., 0., 0.]],\n",
       "\n",
       "       [[0., 0., 0.],\n",
       "        [0., 0., 0.],\n",
       "        [0., 0., 0.],\n",
       "        ...,\n",
       "        [0., 0., 0.],\n",
       "        [0., 0., 0.],\n",
       "        [0., 0., 0.]],\n",
       "\n",
       "       [[0., 0., 0.],\n",
       "        [0., 0., 0.],\n",
       "        [0., 0., 0.],\n",
       "        ...,\n",
       "        [0., 0., 0.],\n",
       "        [0., 0., 0.],\n",
       "        [0., 0., 0.]],\n",
       "\n",
       "       ...,\n",
       "\n",
       "       [[0., 0., 0.],\n",
       "        [0., 0., 0.],\n",
       "        [0., 0., 0.],\n",
       "        ...,\n",
       "        [0., 0., 0.],\n",
       "        [0., 0., 0.],\n",
       "        [0., 0., 0.]],\n",
       "\n",
       "       [[0., 0., 0.],\n",
       "        [0., 0., 0.],\n",
       "        [0., 0., 0.],\n",
       "        ...,\n",
       "        [0., 0., 0.],\n",
       "        [0., 0., 0.],\n",
       "        [0., 0., 0.]],\n",
       "\n",
       "       [[0., 0., 0.],\n",
       "        [0., 0., 0.],\n",
       "        [0., 0., 0.],\n",
       "        ...,\n",
       "        [0., 0., 0.],\n",
       "        [0., 0., 0.],\n",
       "        [0., 0., 0.]]])"
      ]
     },
     "execution_count": 7,
     "metadata": {},
     "output_type": "execute_result"
    }
   ],
   "source": [
    "matrix = annotator.label_matrix\n",
    "matrix"
   ]
  },
  {
   "cell_type": "code",
   "execution_count": 8,
   "id": "2e4cf54b-8114-4cff-b613-17de9711f3aa",
   "metadata": {},
   "outputs": [
    {
     "data": {
      "text/plain": [
       "<matplotlib.image.AxesImage at 0x7ff53ca913f0>"
      ]
     },
     "execution_count": 8,
     "metadata": {},
     "output_type": "execute_result"
    },
    {
     "data": {
      "image/png": "[encoded data removed]",
      "text/plain": [
       "<Figure size 640x480 with 1 Axes>"
      ]
     },
     "metadata": {},
     "output_type": "display_data"
    }
   ],
   "source": [
    "import matplotlib.pyplot as plt\n",
    "\n",
    "plt.imshow(matrix)"
   ]
  },
  {
   "cell_type": "code",
   "execution_count": 9,
   "id": "952975e5-a4c2-4fc7-9d52-e761aac47fc6",
   "metadata": {},
   "outputs": [
    {
     "data": {
      "text/plain": [
       "array([0.])"
      ]
     },
     "execution_count": 9,
     "metadata": {},
     "output_type": "execute_result"
    }
   ],
   "source": [
    "import numpy as np\n",
    "np.unique(matrix)"
   ]
  },
  {
   "cell_type": "code",
   "execution_count": null,
   "id": "fce0409c-d0e7-4ac9-81c9-e0c7b8e04330",
   "metadata": {},
   "outputs": [],
   "source": []
  }
 ],
 "metadata": {
  "kernelspec": {
   "display_name": "Python 3 (ipykernel)",
   "language": "python",
   "name": "python3"
  },
  "language_info": {
   "codemirror_mode": {
    "name": "ipython",
    "version": 3
   },
   "file_extension": ".py",
   "mimetype": "text/x-python",
   "name": "python",
   "nbconvert_exporter": "python",
   "pygments_lexer": "ipython3",
   "version": "3.10.12"
  }
 },
 "nbformat": 4,
 "nbformat_minor": 5
}
