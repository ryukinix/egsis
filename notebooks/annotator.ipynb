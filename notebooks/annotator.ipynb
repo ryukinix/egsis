{
 "cells": [
  {
   "cell_type": "markdown",
   "id": "f5e1e374-d1c4-436e-bc35-4c0ce5011414",
   "metadata": {},
   "source": [
    "# Display image"
   ]
  },
  {
   "cell_type": "code",
   "execution_count": 1,
   "id": "aa63991f-2704-4fc6-b923-a47251dc7296",
   "metadata": {},
   "outputs": [
    {
     "data": {
      "application/vnd.jupyter.widget-view+json": {
       "model_id": "cc72514e94a14f83a200057c92dc525b",
       "version_major": 2,
       "version_minor": 0
      },
      "text/plain": [
       "Canvas(height=705, width=705)"
      ]
     },
     "execution_count": 1,
     "metadata": {},
     "output_type": "execute_result"
    }
   ],
   "source": [
    "# reading re-sized image through canvas\n",
    "from ipycanvas import Canvas\n",
    "\n",
    "from skimage.data import retina\n",
    "from skimage.util import img_as_ubyte\n",
    "from skimage.transform import resize\n",
    "\n",
    "img = img_as_ubyte(retina())\n",
    "width, height, _ = img.shape\n",
    "resize_f = 0.5\n",
    "width_resized = width * resize_f\n",
    "height_resized = height * resize_f\n",
    "canvas = Canvas(width=width_resized, height=height_resized)\n",
    "img_resized = img_as_ubyte(resize(img, (width_resized, height_resized)))\n",
    "canvas.put_image_data(img_resized, 0, 0)\n",
    "canvas"
   ]
  },
  {
   "cell_type": "markdown",
   "id": "296fd1ee-8332-4c51-a2d2-986ec2163110",
   "metadata": {},
   "source": [
    "# Handle mouse input: draw circles at each mouse click"
   ]
  },
  {
   "cell_type": "code",
   "execution_count": 2,
   "id": "75cd8f08-5d5d-42eb-929c-01ab612ad5f3",
   "metadata": {},
   "outputs": [
    {
     "data": {
      "application/vnd.jupyter.widget-view+json": {
       "model_id": "2939f2ba3af24f50b25a1cea365fc719",
       "version_major": 2,
       "version_minor": 0
      },
      "text/plain": [
       "Canvas(height=300, width=300)"
      ]
     },
     "execution_count": 2,
     "metadata": {},
     "output_type": "execute_result"
    }
   ],
   "source": [
    "import numpy as np\n",
    "from ipycanvas import Canvas, hold_canvas\n",
    "from ipywidgets import Output\n",
    "\n",
    "canvas = Canvas(width=300, height=300)\n",
    "\n",
    "out = Output()\n",
    "\n",
    "def draw_circle(x, y):\n",
    "    alpha = [0.5]\n",
    "    r = [5]\n",
    "    color_fill = [[68, 156,  61]]\n",
    "    color_outline = [[183, 228, 164]]\n",
    "    canvas.fill_styled_circles(x, y, r, color=color_fill, alpha=alpha)\n",
    "    canvas.line_width = 2\n",
    "    canvas.stroke_styled_circles(x, y, r, color=color_outline)\n",
    "\n",
    "@out.capture()\n",
    "def handle_touch_move(x, y):\n",
    "    draw_circle(x, y)\n",
    "\n",
    "canvas.on_mouse_up(handle_touch_move)\n",
    "canvas"
   ]
  },
  {
   "cell_type": "markdown",
   "id": "59832df3-d1e7-430d-8b0d-4134d77b2ce5",
   "metadata": {},
   "source": [
    "# Point Annotator (WIP implementation)"
   ]
  },
  {
   "cell_type": "code",
   "execution_count": 3,
   "id": "6260c199-ada4-4c0d-ab4f-bbb6544de984",
   "metadata": {},
   "outputs": [
    {
     "data": {
      "application/vnd.jupyter.widget-view+json": {
       "model_id": "4af7688a4f0541f491c83e9c26aa60a3",
       "version_major": 2,
       "version_minor": 0
      },
      "text/plain": [
       "HBox(children=(Canvas(height=423, width=423), VBox(children=(FloatSlider(value=5.0, continuous_update=False, d…"
      ]
     },
     "execution_count": 3,
     "metadata": {},
     "output_type": "execute_result"
    }
   ],
   "source": [
    "from egsis.annotators import PointAnnotator\n",
    "from skimage.data import retina\n",
    "\n",
    "annotator = PointAnnotator(image=retina(), classes=[\"retina\", \"fg\"], resize_f = 0.3)\n",
    "\n",
    "annotator.display()"
   ]
  },
  {
   "cell_type": "code",
   "execution_count": null,
   "id": "09a6c596-9c3e-4ca5-a8b6-8fd5c5a0ea04",
   "metadata": {},
   "outputs": [],
   "source": []
  }
 ],
 "metadata": {
  "kernelspec": {
   "display_name": "Python 3 (ipykernel)",
   "language": "python",
   "name": "python3"
  },
  "language_info": {
   "codemirror_mode": {
    "name": "ipython",
    "version": 3
   },
   "file_extension": ".py",
   "mimetype": "text/x-python",
   "name": "python",
   "nbconvert_exporter": "python",
   "pygments_lexer": "ipython3",
   "version": "3.10.12"
  }
 },
 "nbformat": 4,
 "nbformat_minor": 5
}
