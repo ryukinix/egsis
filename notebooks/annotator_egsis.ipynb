{
 "cells": [
  {
   "cell_type": "markdown",
   "id": "3f5812fb-37c4-44e0-8f19-618ad56a5903",
   "metadata": {
    "tags": []
   },
   "source": [
    "# EGSIS = Exploratory Graph-based Semi Supervised Image Segmentation\n",
    "\n",
    "Unindo todas as partes: \n",
    "\n",
    "- criação de superpixels\n",
    "- criação de rede complexa\n",
    "- aplicação da dinâmica coletiva (LCU)\n",
    "- classificando as regiões não conhecidas\n",
    "- obtendo segmentos da imagem\n",
    "\n",
    "Essa variação contém um anotador que desenvolvi para não ser necessário pré-segmentar a imagem com superpixels pra realizar a anotação. Por esse motivo, as gerações prévias dos superpixels e redes complexas serão omitidas."
   ]
  },
  {
   "cell_type": "code",
   "execution_count": 1,
   "id": "47d2bc73-f3d4-4a8e-9569-30ab8adaa3e2",
   "metadata": {
    "tags": []
   },
   "outputs": [],
   "source": [
    "import os\n",
    "os.environ[\"LOGURU_LEVEL\"] = \"DEBUG\""
   ]
  },
  {
   "cell_type": "code",
   "execution_count": 2,
   "id": "c9a6c281-3fd7-4383-92af-e28c1151f130",
   "metadata": {},
   "outputs": [],
   "source": [
    "# ref: https://scikit-image.org/docs/stable/auto_examples/segmentation/plot_segmentations.html\n",
    "\n",
    "import matplotlib.pyplot as plt\n",
    "import numpy as np\n",
    "\n",
    "from skimage.data import astronaut, cat, microaneurysms, rocket, horse, retina, coins\n",
    "from skimage.util import img_as_ubyte\n",
    "\n",
    "from egsis import model\n",
    "from egsis import image\n",
    "from egsis.annotators import PointAnnotator"
   ]
  },
  {
   "cell_type": "markdown",
   "id": "ccc944f6-4fe0-4f90-9c2a-1b0b3733461a",
   "metadata": {},
   "source": [
    "# Label annotation"
   ]
  },
  {
   "cell_type": "code",
   "execution_count": 3,
   "id": "425c85fa-ac35-46f6-bc80-9dfa8669c36e",
   "metadata": {},
   "outputs": [
    {
     "data": {
      "application/vnd.jupyter.widget-view+json": {
       "model_id": "941f2eeb722340518d84a76b211b2d5a",
       "version_major": 2,
       "version_minor": 0
      },
      "text/plain": [
       "HBox(children=(Canvas(height=564, width=564), VBox(children=(FloatSlider(value=5.0, continuous_update=False, d…"
      ]
     },
     "execution_count": 3,
     "metadata": {},
     "output_type": "execute_result"
    }
   ],
   "source": [
    "img = img_as_ubyte(retina())\n",
    "\n",
    "annotator = PointAnnotator(img, classes=[\"bg\", \"retina\"], resize_f=0.4)\n",
    "annotator.display()"
   ]
  },
  {
   "cell_type": "markdown",
   "id": "e3c7b995-8bb7-4215-875b-fef9ac56618d",
   "metadata": {},
   "source": [
    "# Model EGSIS execution"
   ]
  },
  {
   "cell_type": "code",
   "execution_count": null,
   "id": "13ce8c2b-f1b7-4215-9fe2-10dd0ed7102b",
   "metadata": {},
   "outputs": [
    {
     "name": "stderr",
     "output_type": "stream",
     "text": [
      "\u001b[32m2023-11-11 21:19:19.266\u001b[0m | \u001b[1mINFO    \u001b[0m | \u001b[36megsis.model\u001b[0m:\u001b[36mfit_predict\u001b[0m:\u001b[36m143\u001b[0m - \u001b[1mRun!\u001b[0m\n"
     ]
    }
   ],
   "source": [
    "X = img\n",
    "y = annotator.label_matrix\n",
    "\n",
    "m = model.EGSIS(\n",
    "    superpixel_segments=50,\n",
    "    superpixel_sigma=0.3,\n",
    "    superpixel_compactness=40,\n",
    "    feature_extraction=\"gabor\",\n",
    "    lcu_max_iter=100,\n",
    "    feature_similarity=\"cosine\",\n",
    ")\n",
    "\n",
    "# Fit predict receiving a image mask\n",
    "mask = m.fit_predict_segmentation_mask(X, y)\n",
    "plt.imshow(image.segmentation_mask_blend(img, mask, annotator.labels_by_color))\n",
    "plt.axis('off')"
   ]
  },
  {
   "cell_type": "code",
   "execution_count": null,
   "id": "5912de17-b98f-4c9e-8a8d-cd147ed96990",
   "metadata": {},
   "outputs": [],
   "source": []
  },
  {
   "cell_type": "code",
   "execution_count": null,
   "id": "9ead71cb-ecf4-44ac-bac1-cf87684d3284",
   "metadata": {},
   "outputs": [],
   "source": []
  }
 ],
 "metadata": {
  "kernelspec": {
   "display_name": "Python 3 (ipykernel)",
   "language": "python",
   "name": "python3"
  },
  "language_info": {
   "codemirror_mode": {
    "name": "ipython",
    "version": 3
   },
   "file_extension": ".py",
   "mimetype": "text/x-python",
   "name": "python",
   "nbconvert_exporter": "python",
   "pygments_lexer": "ipython3",
   "version": "3.10.12"
  }
 },
 "nbformat": 4,
 "nbformat_minor": 5
}
