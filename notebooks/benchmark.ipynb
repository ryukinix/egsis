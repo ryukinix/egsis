{
 "cells": [
  {
   "cell_type": "markdown",
   "id": "d364f9d8-a57c-4679-a6b9-6a5d3546b3d0",
   "metadata": {},
   "source": [
    "# Benchmark com Microsoft GrabCut (50 imagens)\n",
    "\n",
    "Utilizando a métrica _error rate_, esse notebook propõe-se construir uma avaliação no dataset grabcut para avaliar a taxa de erro médio para o algoritmo EGSIS. A intenção é realizar uma comparação com as técnicas avaliadas no artigo _Segmentation by t\n",
    "\n",
    "O. Duchenne, J. -Y. Audibert, R. Keriven, J. Ponce and F. Segonne, \"Segmentation by transduction,\" 2008 IEEE Conference on Computer Vision and Pattern Recognition, Anchorage, AK, USA, 2008, pp. 1-8, doi: 10.1109/CVPR.2008.4587419."
   ]
  },
  {
   "cell_type": "code",
   "execution_count": null,
   "id": "be98cfe7-258d-4a9c-ae9f-c1ce6ba7b8c2",
   "metadata": {},
   "outputs": [],
   "source": []
  }
 ],
 "metadata": {
  "kernelspec": {
   "display_name": "Python 3 (ipykernel)",
   "language": "python",
   "name": "python3"
  },
  "language_info": {
   "codemirror_mode": {
    "name": "ipython",
    "version": 3
   },
   "file_extension": ".py",
   "mimetype": "text/x-python",
   "name": "python",
   "nbconvert_exporter": "python",
   "pygments_lexer": "ipython3",
   "version": "3.10.12"
  }
 },
 "nbformat": 4,
 "nbformat_minor": 5
}
