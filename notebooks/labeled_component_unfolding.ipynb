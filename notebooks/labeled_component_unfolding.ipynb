{
 "cells": [
  {
   "cell_type": "markdown",
   "id": "e7085463-5b53-46fe-875c-ca8b5862a441",
   "metadata": {},
   "source": [
    "# Labeled Component Unfolding (LCU)\n",
    "\n",
    "O algoritmo LCU é um sistema dinâmico que pode ser aplicado numa rede complexa para resolver problemas semi-supervisionados. Seu funcionamento espelha-se em comportamentos da natureza e sistemas sociais, como sobrevivência, competição por recursos, exploração territorial e campanhas de eleição.\n",
    "\n",
    "O autor desse algoritmo é brasileiro, Dr. Filipe Verri (ITA), sendo publicado como um artigo no IEEE (2016) e componente da sua tese de doutorado *Collective dynamics in complex networks for machine learning* (2018).\n",
    "\n",
    "Diferentes de modelos de machine learning mais conhecidos, indutivos, onde há uma etapa prévia de aprendizado e então outra de predição, este algoritmo é classificado **transdutivo**: o aprendizado ocorre de maneira indireta enquanto a predição é feita! Ocorre uma etapa única, iterativa, de classificação.\n",
    "\n",
    "Nessa camada de resolução do problema de segmentação de imagem, já precisamos ter uma rede complexa formada, neste caso através de superpixels e extração de características para calcular o peso das arestas."
   ]
  },
  {
   "cell_type": "code",
   "execution_count": null,
   "id": "270496c2-fc9a-4160-90b0-436ec46fe8e5",
   "metadata": {},
   "outputs": [],
   "source": []
  }
 ],
 "metadata": {
  "kernelspec": {
   "display_name": "Python 3 (ipykernel)",
   "language": "python",
   "name": "python3"
  },
  "language_info": {
   "codemirror_mode": {
    "name": "ipython",
    "version": 3
   },
   "file_extension": ".py",
   "mimetype": "text/x-python",
   "name": "python",
   "nbconvert_exporter": "python",
   "pygments_lexer": "ipython3",
   "version": "3.9.9"
  }
 },
 "nbformat": 4,
 "nbformat_minor": 5
}
