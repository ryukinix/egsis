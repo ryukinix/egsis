{
 "cells": [
  {
   "cell_type": "markdown",
   "id": "d8aef8d1-7ea9-488b-b1c7-f30763115469",
   "metadata": {},
   "source": [
    "# Segmentation Metrics\n",
    "\n",
    "As métricas de segmentação que estarei considerando nesse trabalho são três: \n",
    "\n",
    "- IoU (Intersection over Union, também conhecida como Jaccard Index);\n",
    "- Pixel Accuracy;\n",
    "- Dice Coefficient (F1).\n",
    "\n",
    "$IoU(A,B) := {{|A \\cap B|}\\over{|A \\cup B|}} = {{|A \\cap B|}\\over{|A| + |B| - |A \\cap B|}}$\n",
    "\n",
    "$PixelAccuracy(A, B) = \\frac{1}{n}\\sum_{i=0}^{n}\\mathbb{1}_{(A_{i} = B_{i})}$¹\n",
    "\n",
    "$DSC(A, B) =  \\frac{2 |A \\cap B|}{|A| + |B|}$\n",
    "\n",
    "\n",
    "Nesse notebook é testado as métricas em diferentes cenários hipotéticos considerando a matriz de labels (y) que representaria a máscara de segmentação. Nosso interesse é saber o quão próximo da segmentação humana (ground truth) o modelo de segmentação em questão se comporta. Todos essas métricas variam de $[0,1]$ sendo que 1 o equivalente a 100% de acerto e 0% o erro absoluto.\n",
    "\n",
    "\n",
    "¹ $\\mathbb{1}$ é a função de identificação para quando os pixeis forem iguais.\n"
   ]
  },
  {
   "cell_type": "code",
   "execution_count": 30,
   "id": "eb62d7cc-7a54-4364-b4f4-8bd4c99e865f",
   "metadata": {
    "tags": []
   },
   "outputs": [
    {
     "name": "stdout",
     "output_type": "stream",
     "text": [
      "[[0 0 1]\n",
      " [0 1 0]\n",
      " [1 0 0]]\n",
      "[[1 0 0]\n",
      " [0 1 0]\n",
      " [0 0 1]]\n"
     ]
    }
   ],
   "source": [
    "import numpy as np\n",
    "\n",
    "x = np.array(\n",
    " [[0, 0, 1],\n",
    "  [0, 1, 0],\n",
    "  [1, 0, 0]]\n",
    ") \n",
    "y = np.array(\n",
    " [[1, 0, 0],\n",
    "  [0, 1, 0],\n",
    "  [0, 0, 1]]\n",
    ") \n",
    "print(x)\n",
    "print(y)"
   ]
  },
  {
   "cell_type": "code",
   "execution_count": 31,
   "id": "73467a1b-98d0-4a5d-aca3-8a4d30dc9c3b",
   "metadata": {
    "tags": []
   },
   "outputs": [
    {
     "name": "stdout",
     "output_type": "stream",
     "text": [
      "equal_pixels:  5 total:  9\n"
     ]
    },
    {
     "data": {
      "text/plain": [
       "0.5555555555555556"
      ]
     },
     "execution_count": 31,
     "metadata": {},
     "output_type": "execute_result"
    }
   ],
   "source": [
    "equal_pixels =(x == y).sum()\n",
    "total = x.size\n",
    "print(\"equal_pixels: \", equal_pixels, \"total: \", total)\n",
    "acc = equal_pixels / total\n",
    "acc"
   ]
  },
  {
   "cell_type": "code",
   "execution_count": 32,
   "id": "51c194e2-6336-4231-991b-a76da3901d6d",
   "metadata": {
    "tags": []
   },
   "outputs": [
    {
     "data": {
      "text/plain": [
       "array([[0, 0, 0],\n",
       "       [0, 1, 0],\n",
       "       [0, 0, 0]])"
      ]
     },
     "execution_count": 32,
     "metadata": {},
     "output_type": "execute_result"
    }
   ],
   "source": [
    "intersection = x & y \n",
    "intersection"
   ]
  },
  {
   "cell_type": "code",
   "execution_count": 33,
   "id": "bded4bd2-b81e-4126-9152-dadd8a40dd0a",
   "metadata": {
    "tags": []
   },
   "outputs": [
    {
     "data": {
      "text/plain": [
       "array([[1, 0, 1],\n",
       "       [0, 1, 0],\n",
       "       [1, 0, 1]])"
      ]
     },
     "execution_count": 33,
     "metadata": {},
     "output_type": "execute_result"
    }
   ],
   "source": [
    "union = x | y\n",
    "union"
   ]
  },
  {
   "cell_type": "code",
   "execution_count": 34,
   "id": "abf8883b-8992-4512-8705-005f39a6ba2c",
   "metadata": {
    "tags": []
   },
   "outputs": [
    {
     "data": {
      "text/plain": [
       "0.2"
      ]
     },
     "execution_count": 34,
     "metadata": {},
     "output_type": "execute_result"
    }
   ],
   "source": [
    "iou = intersection.sum() / union.sum()\n",
    "iou"
   ]
  },
  {
   "cell_type": "code",
   "execution_count": 41,
   "id": "e504cd36-1918-4d66-b06c-c17eb9fbd254",
   "metadata": {
    "tags": []
   },
   "outputs": [
    {
     "data": {
      "text/plain": [
       "0.1111111111111111"
      ]
     },
     "execution_count": 41,
     "metadata": {},
     "output_type": "execute_result"
    }
   ],
   "source": [
    "sum_total = x.size + y.size\n",
    "f1 = (2 * intersection.sum()) / sum_total \n",
    "f1"
   ]
  },
  {
   "cell_type": "markdown",
   "id": "f37b4c4e-299e-40ae-a7cc-68233e4bc1fc",
   "metadata": {},
   "source": [
    "As implementações de IoU e f1 necessitam que as entradas estejam binarizadas, com 0 sendo o fundo e 1 a classe alvo."
   ]
  },
  {
   "cell_type": "code",
   "execution_count": 40,
   "id": "20dbd35b-73e8-4b4f-afe6-ab32f5c300f2",
   "metadata": {
    "tags": []
   },
   "outputs": [
    {
     "data": {
      "text/plain": [
       "array([0, 1])"
      ]
     },
     "execution_count": 40,
     "metadata": {},
     "output_type": "execute_result"
    }
   ],
   "source": [
    "np.unique(np.concatenate([x, y]))"
   ]
  },
  {
   "cell_type": "code",
   "execution_count": 44,
   "id": "c2a0a2d3-825b-47b5-b355-5cd80ad7a6d5",
   "metadata": {
    "tags": []
   },
   "outputs": [
    {
     "data": {
      "text/plain": [
       "array([[0, 0, 0],\n",
       "       [0, 1, 0],\n",
       "       [0, 0, 0]])"
      ]
     },
     "execution_count": 44,
     "metadata": {},
     "output_type": "execute_result"
    }
   ],
   "source": [
    "intersection"
   ]
  },
  {
   "cell_type": "code",
   "execution_count": null,
   "id": "823f29fc-26a2-467d-83d5-f8c6f7aee72a",
   "metadata": {},
   "outputs": [],
   "source": []
  }
 ],
 "metadata": {
  "kernelspec": {
   "display_name": "Python 3 (ipykernel)",
   "language": "python",
   "name": "python3"
  },
  "language_info": {
   "codemirror_mode": {
    "name": "ipython",
    "version": 3
   },
   "file_extension": ".py",
   "mimetype": "text/x-python",
   "name": "python",
   "nbconvert_exporter": "python",
   "pygments_lexer": "ipython3",
   "version": "3.10.12"
  }
 },
 "nbformat": 4,
 "nbformat_minor": 5
}
